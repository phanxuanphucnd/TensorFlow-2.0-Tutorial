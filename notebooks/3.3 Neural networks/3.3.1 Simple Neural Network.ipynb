{
 "cells": [
  {
   "cell_type": "markdown",
   "id": "902157cf",
   "metadata": {},
   "source": [
    "### 3.3.1 Simple Neural Network\n",
    "\n",
    "- Author: Phanxuan Phuc\n",
    "- Project: https://github.com/phanxuanphucnd/TensorFlow-2.0-Tutorial\n",
    "\n",
    "\n",
    "\n",
    "#### Neural Network Overview\n",
    "\n",
    "<img src=\"http://cs231n.github.io/assets/nn1/neural_net2.jpeg\" alt=\"nn\" style=\"width: 400px;\"/>\n",
    "\n",
    "#### MNIST Dataset Overview\n",
    "\n",
    "This example is using MNIST handwritten digits. The dataset contains 60,000 examples for training and 10,000 examples for testing. The digits have been size-normalized and centered in a fixed-size image (28x28 pixels) with values from 0 to 255. \n",
    "\n",
    "In this example, each image will be converted to float32, normalized to [0, 1] and flattened to a 1-D array of 784 features (28*28).\n",
    "\n",
    "![MNIST Dataset](http://neuralnetworksanddeeplearning.com/images/mnist_100_digits.png)"
   ]
  },
  {
   "cell_type": "code",
   "execution_count": 1,
   "id": "8d6174f4",
   "metadata": {},
   "outputs": [
    {
     "name": "stderr",
     "output_type": "stream",
     "text": [
      "2021-07-08 22:54:21.138842: W tensorflow/stream_executor/platform/default/dso_loader.cc:64] Could not load dynamic library 'libcudart.so.11.0'; dlerror: libcudart.so.11.0: cannot open shared object file: No such file or directory\n",
      "2021-07-08 22:54:21.138868: I tensorflow/stream_executor/cuda/cudart_stub.cc:29] Ignore above cudart dlerror if you do not have a GPU set up on your machine.\n"
     ]
    }
   ],
   "source": [
    "import numpy as np\n",
    "import tensorflow as tf"
   ]
  },
  {
   "cell_type": "code",
   "execution_count": 2,
   "id": "657cbb9c",
   "metadata": {},
   "outputs": [],
   "source": [
    "# Dataset parameters: MNIST\n",
    "num_classes = 10\n",
    "num_features = 784\n",
    "\n",
    "# Training parameters\n",
    "learning_rate = 0.001\n",
    "batch_size = 256\n",
    "training_steps = 3000\n",
    "display_step = 500\n",
    "\n",
    "# Network parameters\n",
    "n_hidden_1 = 128    # 1st layer number of neurons.\n",
    "n_hidden_2 = 256    # 2st layer number of neurons."
   ]
  },
  {
   "cell_type": "code",
   "execution_count": 3,
   "id": "a1ce3002",
   "metadata": {},
   "outputs": [],
   "source": [
    "# Prepare MNIST Dataset\n",
    "\n",
    "from tensorflow.keras.datasets import mnist\n",
    "\n",
    "(x_train, y_train), (x_test, y_test) = mnist.load_data()\n",
    "\n",
    "# Convert to float32\n",
    "x_train, x_test = np.array(x_train, np.float32), np.array(x_test, np.float32)\n",
    "\n",
    "# Flatten images to 1-D vector of 784 features (28 * 28)\n",
    "x_train, x_test = x_train.reshape([-1, num_features]), x_test.reshape([-1, num_features])\n",
    "\n",
    "# Normalize images value from [0, 255] to [0, 1]\n",
    "x_train, x_test = x_train / 255, x_test / 255"
   ]
  },
  {
   "cell_type": "code",
   "execution_count": 4,
   "id": "3a2a208c",
   "metadata": {},
   "outputs": [
    {
     "name": "stderr",
     "output_type": "stream",
     "text": [
      "2021-07-08 22:54:22.425627: W tensorflow/stream_executor/platform/default/dso_loader.cc:64] Could not load dynamic library 'libcuda.so.1'; dlerror: libcuda.so.1: cannot open shared object file: No such file or directory\n",
      "2021-07-08 22:54:22.425655: W tensorflow/stream_executor/cuda/cuda_driver.cc:326] failed call to cuInit: UNKNOWN ERROR (303)\n",
      "2021-07-08 22:54:22.425675: I tensorflow/stream_executor/cuda/cuda_diagnostics.cc:156] kernel driver does not appear to be running on this host (phucphan-ThinkPad): /proc/driver/nvidia/version does not exist\n",
      "2021-07-08 22:54:22.425975: I tensorflow/core/platform/cpu_feature_guard.cc:142] This TensorFlow binary is optimized with oneAPI Deep Neural Network Library (oneDNN) to use the following CPU instructions in performance-critical operations:  AVX2 FMA\n",
      "To enable them in other operations, rebuild TensorFlow with the appropriate compiler flags.\n"
     ]
    }
   ],
   "source": [
    "# Use tf.data API to shuffle and batch data\n",
    "\n",
    "train_dataset = tf.data.Dataset.from_tensor_slices((x_train, y_train))\n",
    "train_dataset = train_dataset.repeat().shuffle(5000).batch(batch_size).prefetch(1)"
   ]
  },
  {
   "cell_type": "code",
   "execution_count": 5,
   "id": "75ad76a9",
   "metadata": {},
   "outputs": [],
   "source": [
    "# Store layers weight and bias\n",
    "\n",
    "# A random value generator to initilaize weights\n",
    "random_normal = tf.initializers.RandomNormal()\n",
    "\n",
    "weights = {\n",
    "    'h1': tf.Variable(random_normal([num_features, n_hidden_1])),\n",
    "    'h2': tf.Variable(random_normal([n_hidden_1, n_hidden_2])),\n",
    "    'out': tf.Variable(random_normal([n_hidden_2, num_classes]))\n",
    "}\n",
    "\n",
    "biases = {\n",
    "    'b1': tf.Variable(tf.zeros([n_hidden_1])), \n",
    "    'b2': tf.Variable(tf.zeros([n_hidden_2])),\n",
    "    'out': tf.Variable(tf.zeros([num_classes]))\n",
    "}"
   ]
  },
  {
   "cell_type": "code",
   "execution_count": 6,
   "id": "bf517e63",
   "metadata": {},
   "outputs": [],
   "source": [
    "# Create the model\n",
    "\n",
    "def NeuralNet(x):\n",
    "    # Hidden fully connected layer with 128 neurons\n",
    "    layer_1 = tf.add(tf.matmul(x, weights['h1']), biases['b1'])\n",
    "    \n",
    "    # Apply sigmoid to layer_1 output for non-linearity\n",
    "    layer_1 = tf.nn.sigmoid(layer_1)\n",
    "    \n",
    "    # Hidden fully connected layer with 256 neurons\n",
    "    layer_2 = tf.add(tf.matmul(layer_1, weights['h2']), biases['b2'])\n",
    "    \n",
    "    # Apply sigmoid to layer_2 output for non-linearity\n",
    "    layer_2 = tf.nn.sigmoid(layer_2)\n",
    "    \n",
    "    # Output fully connected layer with a neuron for each class\n",
    "    out_layer = tf.add(tf.matmul(layer_2, weights['out']), biases['out'])\n",
    "    \n",
    "    # Apply softmax to normalize to logits to a probability distribution\n",
    "    out = tf.nn.softmax(out_layer)\n",
    "    \n",
    "    return out"
   ]
  },
  {
   "cell_type": "code",
   "execution_count": 7,
   "id": "fd54e86c",
   "metadata": {},
   "outputs": [],
   "source": [
    "# Cross-entropy loss function\n",
    "def cross_entropy(y_pred, y_true):\n",
    "    # Encode label to one-hot vector\n",
    "    y_true = tf.one_hot(y_true, depth=num_classes)\n",
    "    \n",
    "    # Clip prediction values to void log(0) error\n",
    "    y_pred = tf.clip_by_value(y_pred, 1e-9, 1.)\n",
    "    \n",
    "    # Compute cross-entropy\n",
    "    cross_entropy = tf.reduce_mean(-tf.reduce_sum(y_true * tf.math.log(y_pred)))\n",
    "    \n",
    "    return cross_entropy\n",
    "\n",
    "\n",
    "# Metric accuracy\n",
    "def accuracy(y_pred, y_true):\n",
    "    correct = tf.equal(tf.argmax(y_pred, 1), tf.cast(y_true, tf.int64))\n",
    "    acc = tf.reduce_mean(tf.cast(correct, tf.float32), axis=-1)\n",
    "    \n",
    "    return acc\n",
    "\n",
    "# Optimizer\n",
    "optimizer = tf.optimizers.SGD(learning_rate)"
   ]
  },
  {
   "cell_type": "code",
   "execution_count": 8,
   "id": "bf8c13e2",
   "metadata": {},
   "outputs": [],
   "source": [
    "# Optimization process\n",
    "def run_optimization(x, y):\n",
    "    # Wrap computation inside a GradientTape for automatic differentiation\n",
    "    with tf.GradientTape() as g:\n",
    "        pred = NeuralNet(x)\n",
    "        loss = cross_entropy(pred, y)\n",
    "        \n",
    "    # Variables to update, i.e. trainable variables\n",
    "    trainable_variables = list(weights.values()) + list(biases.values())\n",
    "    \n",
    "    # Compute gradients\n",
    "    gradients = g.gradient(loss, trainable_variables)\n",
    "    \n",
    "    # Update W and b following gradients\n",
    "    optimizer.apply_gradients(zip(gradients, trainable_variables))"
   ]
  },
  {
   "cell_type": "code",
   "execution_count": 9,
   "id": "6562ffd4",
   "metadata": {},
   "outputs": [
    {
     "name": "stdout",
     "output_type": "stream",
     "text": [
      "Step: 500, loss: 150.621826171875, accuracy: 0.8125\n",
      "Step: 1000, loss: 84.77633666992188, accuracy: 0.90625\n",
      "Step: 1500, loss: 67.48261260986328, accuracy: 0.9296875\n",
      "Step: 2000, loss: 68.82249450683594, accuracy: 0.93359375\n",
      "Step: 2500, loss: 43.670745849609375, accuracy: 0.93359375\n",
      "Step: 3000, loss: 50.74599838256836, accuracy: 0.9453125\n"
     ]
    }
   ],
   "source": [
    "# Training\n",
    "for step, (batch_x, batch_y) in enumerate(train_dataset.take(training_steps), 1):\n",
    "    # Run the optimization to update W and b values\n",
    "    run_optimization(batch_x, batch_y)\n",
    "    \n",
    "    if step % display_step == 0:\n",
    "        pred = NeuralNet(batch_x)\n",
    "        loss = cross_entropy(pred, batch_y)\n",
    "        acc = accuracy(pred, batch_y)\n",
    "        \n",
    "        print(f\"Step: {step}, loss: {loss}, accuracy: {acc}\")"
   ]
  },
  {
   "cell_type": "code",
   "execution_count": null,
   "id": "0057cefa",
   "metadata": {},
   "outputs": [],
   "source": []
  }
 ],
 "metadata": {
  "kernelspec": {
   "display_name": "tf2",
   "language": "python",
   "name": "tf2"
  },
  "language_info": {
   "codemirror_mode": {
    "name": "ipython",
    "version": 3
   },
   "file_extension": ".py",
   "mimetype": "text/x-python",
   "name": "python",
   "nbconvert_exporter": "python",
   "pygments_lexer": "ipython3",
   "version": "3.7.1"
  }
 },
 "nbformat": 4,
 "nbformat_minor": 5
}
