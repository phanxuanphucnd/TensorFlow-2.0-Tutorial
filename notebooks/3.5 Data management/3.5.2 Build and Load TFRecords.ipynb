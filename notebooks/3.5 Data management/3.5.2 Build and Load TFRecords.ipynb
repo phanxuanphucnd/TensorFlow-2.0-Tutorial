{
 "cells": [
  {
   "cell_type": "markdown",
   "id": "c73f8620",
   "metadata": {},
   "source": [
    "### 3.5.2 Build and Load TFRecords\n",
    "- Author: Phanxuan Phuc\n",
    "- Project: https://github.com/phanxuanphucnd/TensorFlow-2.0-Tutorial\n",
    "\n",
    "*Copyright (c) 2021 Phuc Phan*"
   ]
  },
  {
   "cell_type": "code",
   "execution_count": null,
   "id": "8408b213",
   "metadata": {},
   "outputs": [],
   "source": []
  }
 ],
 "metadata": {
  "kernelspec": {
   "display_name": "tf2",
   "language": "python",
   "name": "tf2"
  },
  "language_info": {
   "codemirror_mode": {
    "name": "ipython",
    "version": 3
   },
   "file_extension": ".py",
   "mimetype": "text/x-python",
   "name": "python",
   "nbconvert_exporter": "python",
   "pygments_lexer": "ipython3",
   "version": "3.7.1"
  }
 },
 "nbformat": 4,
 "nbformat_minor": 5
}
