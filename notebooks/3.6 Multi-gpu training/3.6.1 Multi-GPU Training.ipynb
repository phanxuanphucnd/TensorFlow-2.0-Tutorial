{
 "cells": [
  {
   "cell_type": "markdown",
   "id": "2d82012a",
   "metadata": {},
   "source": [
    "### 3.6.1 Multi-GPU Training\n",
    "- Author: Phanxuan Phuc\n",
    "- Project: https://github.com/phanxuanphucnd/TensorFlow-2.0-Tutorial\n",
    "\n",
    "*Copyright (c) 2021 Phuc Phan*"
   ]
  },
  {
   "cell_type": "code",
   "execution_count": null,
   "id": "d805ce53",
   "metadata": {},
   "outputs": [],
   "source": []
  }
 ],
 "metadata": {
  "kernelspec": {
   "display_name": "tf2",
   "language": "python",
   "name": "tf2"
  },
  "language_info": {
   "codemirror_mode": {
    "name": "ipython",
    "version": 3
   },
   "file_extension": ".py",
   "mimetype": "text/x-python",
   "name": "python",
   "nbconvert_exporter": "python",
   "pygments_lexer": "ipython3",
   "version": "3.7.1"
  }
 },
 "nbformat": 4,
 "nbformat_minor": 5
}
