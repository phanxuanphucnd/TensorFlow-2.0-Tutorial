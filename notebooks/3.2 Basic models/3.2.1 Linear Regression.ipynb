{
 "cells": [
  {
   "cell_type": "markdown",
   "id": "4b5e5e28",
   "metadata": {},
   "source": [
    "### 3.2.1 Linear Regression\n",
    "\n",
    "- Author: Phanxuan Phuc\n",
    "- Project: https://github.com/phanxuanphucnd/TensorFlow-2.0-Tutorial"
   ]
  },
  {
   "cell_type": "code",
   "execution_count": 1,
   "id": "5226324d",
   "metadata": {},
   "outputs": [
    {
     "name": "stderr",
     "output_type": "stream",
     "text": [
      "2021-07-04 01:32:45.311455: W tensorflow/stream_executor/platform/default/dso_loader.cc:64] Could not load dynamic library 'libcudart.so.11.0'; dlerror: libcudart.so.11.0: cannot open shared object file: No such file or directory\n",
      "2021-07-04 01:32:45.311484: I tensorflow/stream_executor/cuda/cudart_stub.cc:29] Ignore above cudart dlerror if you do not have a GPU set up on your machine.\n"
     ]
    }
   ],
   "source": [
    "import numpy as np\n",
    "import tensorflow as tf"
   ]
  },
  {
   "cell_type": "code",
   "execution_count": 2,
   "id": "70ecbb83",
   "metadata": {},
   "outputs": [],
   "source": [
    "# Parameters:\n",
    "\n",
    "learning_rate = 0.01\n",
    "training_steps = 1000\n",
    "display_step = 50"
   ]
  },
  {
   "cell_type": "code",
   "execution_count": 3,
   "id": "51d813ec",
   "metadata": {},
   "outputs": [],
   "source": [
    "# Training Data.\n",
    "# X = np.random.uniform(low=0.5, high=5.0, size=(50,))\n",
    "# Y = np.random.uniform(low=0.0, high=1.0, size=(50,))\n",
    "\n",
    "X = np.array([3.3,4.4,5.5,6.71,6.93,4.168,9.779,6.182,7.59,2.167,\n",
    "              7.042,10.791,5.313,7.997,5.654,9.27,3.1])\n",
    "Y = np.array([1.7,2.76,2.09,3.19,1.694,1.573,3.366,2.596,2.53,1.221,\n",
    "              2.827,3.465,1.65,2.904,2.42,2.94,1.3])"
   ]
  },
  {
   "cell_type": "code",
   "execution_count": 4,
   "id": "94636db0",
   "metadata": {},
   "outputs": [
    {
     "name": "stderr",
     "output_type": "stream",
     "text": [
      "2021-07-04 01:32:51.531665: W tensorflow/stream_executor/platform/default/dso_loader.cc:64] Could not load dynamic library 'libcuda.so.1'; dlerror: libcuda.so.1: cannot open shared object file: No such file or directory\n",
      "2021-07-04 01:32:51.531701: W tensorflow/stream_executor/cuda/cuda_driver.cc:326] failed call to cuInit: UNKNOWN ERROR (303)\n",
      "2021-07-04 01:32:51.531729: I tensorflow/stream_executor/cuda/cuda_diagnostics.cc:156] kernel driver does not appear to be running on this host (phucphan-ThinkPad): /proc/driver/nvidia/version does not exist\n",
      "2021-07-04 01:32:51.532019: I tensorflow/core/platform/cpu_feature_guard.cc:142] This TensorFlow binary is optimized with oneAPI Deep Neural Network Library (oneDNN) to use the following CPU instructions in performance-critical operations:  AVX2 FMA\n",
      "To enable them in other operations, rebuild TensorFlow with the appropriate compiler flags.\n"
     ]
    }
   ],
   "source": [
    "random = np.random\n",
    "\n",
    "# Weight and Bias, initialized randomly.\n",
    "W = tf.Variable(random.randn(), name=\"weight\")\n",
    "b = tf.Variable(random.randn(), name=\"bias\")\n",
    "\n",
    "# Linear regression (Wx + b).\n",
    "def linear_regression(x):\n",
    "    return W * x + b\n",
    "\n",
    "# Mean square error.\n",
    "def mean_square(y_pred, y_true):\n",
    "    return tf.reduce_mean(tf.square(y_pred - y_true))\n",
    "\n",
    "# Stochastic Gradient Descent Optimizer.\n",
    "optimizer = tf.optimizers.SGD(learning_rate)"
   ]
  },
  {
   "cell_type": "code",
   "execution_count": 5,
   "id": "253aa04e",
   "metadata": {},
   "outputs": [],
   "source": [
    "# Optimization process. \n",
    "def run_optimization():\n",
    "    # Wrap computation inside a GradientTape for automatic differentiation.\n",
    "    with tf.GradientTape() as g:\n",
    "        pred = linear_regression(X)\n",
    "        loss = mean_square(pred, Y)\n",
    "\n",
    "    # Compute gradients.\n",
    "    gradients = g.gradient(loss, [W, b])\n",
    "    \n",
    "    # Update W and b following gradients.\n",
    "    optimizer.apply_gradients(zip(gradients, [W, b]))"
   ]
  },
  {
   "cell_type": "code",
   "execution_count": 6,
   "id": "ccc8b47a",
   "metadata": {},
   "outputs": [
    {
     "name": "stdout",
     "output_type": "stream",
     "text": [
      "Step: 50, loss: 0.168828, W: 0.300685, b: 0.451059\n",
      "Step: 100, loss: 0.165598, W: 0.295072, b: 0.490853\n",
      "Step: 150, loss: 0.163064, W: 0.290101, b: 0.526093\n",
      "Step: 200, loss: 0.161078, W: 0.285699, b: 0.557301\n",
      "Step: 250, loss: 0.159520, W: 0.281801, b: 0.584937\n",
      "Step: 300, loss: 0.158298, W: 0.278349, b: 0.609410\n",
      "Step: 350, loss: 0.157340, W: 0.275292, b: 0.631084\n",
      "Step: 400, loss: 0.156589, W: 0.272585, b: 0.650276\n",
      "Step: 450, loss: 0.155999, W: 0.270187, b: 0.667273\n",
      "Step: 500, loss: 0.155537, W: 0.268064, b: 0.682324\n",
      "Step: 550, loss: 0.155175, W: 0.266184, b: 0.695653\n",
      "Step: 600, loss: 0.154891, W: 0.264519, b: 0.707457\n",
      "Step: 650, loss: 0.154668, W: 0.263045, b: 0.717910\n",
      "Step: 700, loss: 0.154493, W: 0.261739, b: 0.727167\n",
      "Step: 750, loss: 0.154356, W: 0.260583, b: 0.735365\n",
      "Step: 800, loss: 0.154248, W: 0.259559, b: 0.742624\n",
      "Step: 850, loss: 0.154164, W: 0.258652, b: 0.749053\n",
      "Step: 900, loss: 0.154098, W: 0.257849, b: 0.754746\n",
      "Step: 950, loss: 0.154046, W: 0.257138, b: 0.759787\n",
      "Step: 1000, loss: 0.154005, W: 0.256508, b: 0.764252\n"
     ]
    }
   ],
   "source": [
    "# Run training for the given number of steps.\n",
    "for step in range(1, training_steps + 1):\n",
    "    # Run the optimization to update W and b values.\n",
    "    run_optimization()\n",
    "    \n",
    "    if step % display_step == 0:\n",
    "        pred = linear_regression(X)\n",
    "        loss = mean_square(pred, Y)\n",
    "        print(\"Step: %i, loss: %f, W: %f, b: %f\" % (step, loss, W.numpy(), b.numpy()))"
   ]
  },
  {
   "cell_type": "code",
   "execution_count": 7,
   "id": "d6b291ae",
   "metadata": {},
   "outputs": [],
   "source": [
    "import matplotlib.pyplot as plt"
   ]
  },
  {
   "cell_type": "code",
   "execution_count": 8,
   "id": "449dde3f",
   "metadata": {},
   "outputs": [
    {
     "data": {
      "image/png": "[encoded data removed]",
      "text/plain": [
       "<Figure size 432x288 with 1 Axes>"
      ]
     },
     "metadata": {
      "needs_background": "light"
     },
     "output_type": "display_data"
    }
   ],
   "source": [
    "# Graphic display\n",
    "plt.plot(X, Y, 'ro', label='Original data')\n",
    "plt.plot(X, np.array(W * X + b), label='Fitted line')\n",
    "plt.legend()\n",
    "plt.show()"
   ]
  },
  {
   "cell_type": "code",
   "execution_count": null,
   "id": "4b6cab64",
   "metadata": {},
   "outputs": [],
   "source": []
  }
 ],
 "metadata": {
  "kernelspec": {
   "display_name": "tf2",
   "language": "python",
   "name": "tf2"
  },
  "language_info": {
   "codemirror_mode": {
    "name": "ipython",
    "version": 3
   },
   "file_extension": ".py",
   "mimetype": "text/x-python",
   "name": "python",
   "nbconvert_exporter": "python",
   "pygments_lexer": "ipython3",
   "version": "3.7.1"
  }
 },
 "nbformat": 4,
 "nbformat_minor": 5
}
