{
 "cells": [
  {
   "cell_type": "markdown",
   "id": "d06a4b17",
   "metadata": {},
   "source": [
    "### 3.2.3 Word2Vec (Word Embedding)\n",
    "\n",
    "- Author: Phanxuan Phuc\n",
    "- Project: https://github.com/phanxuanphucnd/TensorFlow-2.0-Tutorial"
   ]
  },
  {
   "cell_type": "code",
   "execution_count": 1,
   "id": "ba8c5deb",
   "metadata": {},
   "outputs": [
    {
     "name": "stderr",
     "output_type": "stream",
     "text": [
      "2021-07-06 10:35:07.623683: W tensorflow/stream_executor/platform/default/dso_loader.cc:64] Could not load dynamic library 'libcudart.so.11.0'; dlerror: libcudart.so.11.0: cannot open shared object file: No such file or directory\n",
      "2021-07-06 10:35:07.623714: I tensorflow/stream_executor/cuda/cudart_stub.cc:29] Ignore above cudart dlerror if you do not have a GPU set up on your machine.\n"
     ]
    }
   ],
   "source": [
    "import os\n",
    "import random\n",
    "import zipfile\n",
    "import numpy as np\n",
    "import collections\n",
    "import urllib.request\n",
    "import tensorflow as tf"
   ]
  },
  {
   "cell_type": "code",
   "execution_count": 2,
   "id": "7c69ca34",
   "metadata": {},
   "outputs": [],
   "source": [
    "# Training parameters\n",
    "lr = 0.1\n",
    "bs = 128\n",
    "eval_step = 200000\n",
    "display_step = 10000\n",
    "num_steps = 3000000\n",
    "\n",
    "# Evaluation parameters\n",
    "eval_words = ['five', 'of', 'going', 'hardware', 'american', 'britain']\n",
    "\n",
    "# Word2Vec parameters\n",
    "embedding_size = 200     # Dimension of the embedding vector\n",
    "max_vocab_size = 50000   # Total numbers of different words in the Vocaburary\n",
    "min_occurrence = 10      # Remove all words that doesn't appears at least n times\n",
    "skip_window = 3          # How many words to consider left and right\n",
    "num_skips = 2            # How many times to reuse an input to generate a label\n",
    "num_sampled = 64         # Number of negative examples to sample"
   ]
  },
  {
   "cell_type": "markdown",
   "id": "070b900c",
   "metadata": {},
   "source": [
    "### Download Dataset\n",
    "\n",
    "- Text8 Dataset: [Download](http://mattmahoney.net/dc/text8.zip)"
   ]
  },
  {
   "cell_type": "code",
   "execution_count": 3,
   "id": "c5a62652",
   "metadata": {},
   "outputs": [],
   "source": [
    "# Unzip the dataset file. Text has already been processed.\n",
    "\n",
    "data_path = '../../data/text8.zip'\n",
    "\n",
    "with zipfile.ZipFile(data_path) as f:\n",
    "    text_words = f.read(f.namelist()[0]).lower().split()"
   ]
  },
  {
   "cell_type": "code",
   "execution_count": 4,
   "id": "d3c9fa16",
   "metadata": {},
   "outputs": [
    {
     "name": "stdout",
     "output_type": "stream",
     "text": [
      "Words count: 17005207\n",
      "Unique words: 253854\n",
      "Vocaburary size: 47135\n"
     ]
    }
   ],
   "source": [
    "# Build the Dictionary and replace rare words with UNK token.\n",
    "count = [('UNK', -1)]\n",
    "\n",
    "# Retrieve the most common words.\n",
    "count.extend(collections.Counter(text_words).most_common(max_vocab_size - 1))\n",
    "\n",
    "# Remove samples with less than 'min_occurence' ocurrences.\n",
    "for i in range(len(count) - 1, -1, -1):\n",
    "    if count[i][1] < min_occurrence:\n",
    "        count.pop(i)\n",
    "    else:\n",
    "        # The collection is ordered, so that stop when 'min_occurence' is reached\n",
    "        break\n",
    "        \n",
    "# Compute the Vocaburary size\n",
    "vocab_size = len(count)\n",
    "\n",
    "# Assign an id to each word\n",
    "word2id = dict()\n",
    "for i, (word, _) in enumerate(count):\n",
    "    word2id[word] = i\n",
    "    \n",
    "data = list()\n",
    "unk_count = 0\n",
    "for word in text_words:\n",
    "    # Retrieve a word id, or assign it index 0 ('UNK') if not in Dictionary\n",
    "    index = word2id.get(word, 0)\n",
    "    if index == 0:\n",
    "        unk_count += 1\n",
    "    data.append(index)\n",
    "    \n",
    "id2word = dict(zip(word2id.values(), word2id.keys()))\n",
    "\n",
    "\n",
    "print(f\"Words count: {len(text_words)}\")\n",
    "print(f\"Unique words: {len(set(text_words))}\")\n",
    "print(f\"Vocaburary size: {vocab_size}\")"
   ]
  },
  {
   "cell_type": "code",
   "execution_count": 5,
   "id": "31d3fd13",
   "metadata": {},
   "outputs": [],
   "source": [
    "data_index = 0\n",
    "\n",
    "# Generate training batch for the skip-gram model\n",
    "def next_batch(batch_size, num_skips, skip_window):\n",
    "    global data_index\n",
    "    assert batch_size % num_skips == 0\n",
    "    assert num_skips <= 2 * skip_window\n",
    "    \n",
    "    batch = np.ndarray(shape=(batch_size), dtype=np.int32)\n",
    "    labels = np.ndarray(shape=(batch_size), dtype=np.int32)\n",
    "    \n",
    "    # Get window_size (words left and right + current one)\n",
    "    span = 2 * skip_window + 1\n",
    "    buffer = collections.deque(maxlen=span)\n",
    "    if data_index + span > len(data):\n",
    "        data_index = 0\n",
    "    \n",
    "    buffer.extend(data[data_index: data_index + span])\n",
    "    data_index += span\n",
    "    \n",
    "    for i in range(batch_size // num_skips):\n",
    "        context_words = [w for w in range(span) if w !=  skip_window]\n",
    "        word_to_use = random.sample(context_words, num_skips)\n",
    "        for j, context_word in enumerate(word_to_use):\n",
    "            batch[i * num_skips + j] = buffer[skip_window]\n",
    "            labels[i * num_skips + j, 0] = buffer[context_word]\n",
    "            \n",
    "        if data_index == len(data):\n",
    "            buffer.extend(data[0: span])\n",
    "            data_index = span\n",
    "        else:\n",
    "            buffer.append(data[data_index])\n",
    "            data_index += 1\n",
    "    \n",
    "    # Backtrack a little bit to avoid skipping words in the end of a batch\n",
    "    data_index = (data_index + len(data) - span) % len(data)\n",
    "    \n",
    "    return batch, labels"
   ]
  },
  {
   "cell_type": "code",
   "execution_count": null,
   "id": "fe9ffc46",
   "metadata": {},
   "outputs": [],
   "source": []
  }
 ],
 "metadata": {
  "kernelspec": {
   "display_name": "tf2",
   "language": "python",
   "name": "tf2"
  },
  "language_info": {
   "codemirror_mode": {
    "name": "ipython",
    "version": 3
   },
   "file_extension": ".py",
   "mimetype": "text/x-python",
   "name": "python",
   "nbconvert_exporter": "python",
   "pygments_lexer": "ipython3",
   "version": "3.7.1"
  }
 },
 "nbformat": 4,
 "nbformat_minor": 5
}
