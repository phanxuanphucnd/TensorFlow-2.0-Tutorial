{
 "cells": [
  {
   "cell_type": "markdown",
   "id": "d06a4b17",
   "metadata": {},
   "source": [
    "### 3.2.3 Word2Vec (Word Embedding)\n",
    "\n",
    "- Author: Phanxuan Phuc\n",
    "- Project: https://github.com/phanxuanphucnd/TensorFlow-2.0-Tutorial"
   ]
  },
  {
   "cell_type": "code",
   "execution_count": 1,
   "id": "ba8c5deb",
   "metadata": {},
   "outputs": [
    {
     "name": "stderr",
     "output_type": "stream",
     "text": [
      "2021-07-07 00:37:27.708141: W tensorflow/stream_executor/platform/default/dso_loader.cc:64] Could not load dynamic library 'libcudart.so.11.0'; dlerror: libcudart.so.11.0: cannot open shared object file: No such file or directory\n",
      "2021-07-07 00:37:27.708166: I tensorflow/stream_executor/cuda/cudart_stub.cc:29] Ignore above cudart dlerror if you do not have a GPU set up on your machine.\n"
     ]
    }
   ],
   "source": [
    "import os\n",
    "import random\n",
    "import zipfile\n",
    "import numpy as np\n",
    "import collections\n",
    "import urllib.request\n",
    "import tensorflow as tf"
   ]
  },
  {
   "cell_type": "code",
   "execution_count": 2,
   "id": "7c69ca34",
   "metadata": {},
   "outputs": [],
   "source": [
    "# Training parameters\n",
    "lr = 0.1\n",
    "bs = 128\n",
    "eval_step = 200000\n",
    "display_step = 10000\n",
    "num_steps = 3000000\n",
    "\n",
    "# Evaluation parameters\n",
    "eval_words = ['five', 'of', 'going', 'hardware', 'american', 'britain']\n",
    "\n",
    "# Word2Vec parameters\n",
    "embedding_size = 200     # Dimension of the embedding vector\n",
    "max_vocab_size = 50000   # Total numbers of different words in the Vocaburary\n",
    "min_occurrence = 10      # Remove all words that doesn't appears at least n times\n",
    "skip_window = 3          # How many words to consider left and right\n",
    "num_skips = 2            # How many times to reuse an input to generate a label\n",
    "num_sampled = 64         # Number of negative examples to sample"
   ]
  },
  {
   "cell_type": "markdown",
   "id": "070b900c",
   "metadata": {},
   "source": [
    "### Download Dataset\n",
    "\n",
    "- Text8 Dataset: [Download](http://mattmahoney.net/dc/text8.zip)"
   ]
  },
  {
   "cell_type": "code",
   "execution_count": 3,
   "id": "c5a62652",
   "metadata": {},
   "outputs": [],
   "source": [
    "# Unzip the dataset file. Text has already been processed.\n",
    "\n",
    "data_path = '../../data/text8.zip'\n",
    "\n",
    "with zipfile.ZipFile(data_path) as f:\n",
    "    text_words = f.read(f.namelist()[0]).lower().split()"
   ]
  },
  {
   "cell_type": "code",
   "execution_count": 4,
   "id": "c22f871b",
   "metadata": {},
   "outputs": [],
   "source": [
    "text_words = [i.decode('utf-8') for i in text_words]"
   ]
  },
  {
   "cell_type": "code",
   "execution_count": 5,
   "id": "d3c9fa16",
   "metadata": {},
   "outputs": [
    {
     "name": "stdout",
     "output_type": "stream",
     "text": [
      "Words count: 17005207\n",
      "Unique words: 253854\n",
      "Vocaburary size: 47135\n"
     ]
    }
   ],
   "source": [
    "# Build the Dictionary and replace rare words with UNK token.\n",
    "count = [('UNK', -1)]\n",
    "\n",
    "# Retrieve the most common words.\n",
    "count.extend(collections.Counter(text_words).most_common(max_vocab_size - 1))\n",
    "\n",
    "# Remove samples with less than 'min_occurence' ocurrences.\n",
    "for i in range(len(count) - 1, -1, -1):\n",
    "    if count[i][1] < min_occurrence:\n",
    "        count.pop(i)\n",
    "    else:\n",
    "        # The collection is ordered, so that stop when 'min_occurence' is reached\n",
    "        break\n",
    "        \n",
    "# Compute the Vocaburary size\n",
    "vocab_size = len(count)\n",
    "\n",
    "# Assign an id to each word\n",
    "word2id = dict()\n",
    "for i, (word, _) in enumerate(count):\n",
    "    word2id[word] = i\n",
    "    \n",
    "data = list()\n",
    "unk_count = 0\n",
    "for word in text_words:\n",
    "    # Retrieve a word id, or assign it index 0 ('UNK') if not in Dictionary\n",
    "    index = word2id.get(word, 0)\n",
    "    if index == 0:\n",
    "        unk_count += 1\n",
    "    data.append(index)\n",
    "    \n",
    "id2word = dict(zip(word2id.values(), word2id.keys()))\n",
    "\n",
    "\n",
    "print(f\"Words count: {len(text_words)}\")\n",
    "print(f\"Unique words: {len(set(text_words))}\")\n",
    "print(f\"Vocaburary size: {vocab_size}\")"
   ]
  },
  {
   "cell_type": "code",
   "execution_count": 6,
   "id": "31d3fd13",
   "metadata": {},
   "outputs": [],
   "source": [
    "data_index = 0\n",
    "\n",
    "# Generate training batch for the skip-gram model\n",
    "def next_batch(batch_size, num_skips, skip_window):\n",
    "    global data_index\n",
    "    assert batch_size % num_skips == 0\n",
    "    assert num_skips <= 2 * skip_window\n",
    "    \n",
    "    batch = np.ndarray(shape=(batch_size), dtype=np.int32)\n",
    "    labels = np.ndarray(shape=(batch_size, 1), dtype=np.int32)\n",
    "    \n",
    "    # Get window_size (words left and right + current one)\n",
    "    span = 2 * skip_window + 1\n",
    "    buffer = collections.deque(maxlen=span)\n",
    "    if data_index + span > len(data):\n",
    "        data_index = 0\n",
    "    \n",
    "    buffer.extend(data[data_index: data_index + span])\n",
    "    data_index += span\n",
    "    \n",
    "    for i in range(batch_size // num_skips):\n",
    "        context_words = [w for w in range(span) if w !=  skip_window]\n",
    "        word_to_use = random.sample(context_words, num_skips)\n",
    "        for j, context_word in enumerate(word_to_use):\n",
    "            batch[i * num_skips + j] = buffer[skip_window]\n",
    "            labels[i * num_skips + j, 0] = buffer[context_word]\n",
    "            \n",
    "        if data_index == len(data):\n",
    "            buffer.extend(data[0: span])\n",
    "            data_index = span\n",
    "        else:\n",
    "            buffer.append(data[data_index])\n",
    "            data_index += 1\n",
    "    \n",
    "    # Backtrack a little bit to avoid skipping words in the end of a batch\n",
    "    data_index = (data_index + len(data) - span) % len(data)\n",
    "    \n",
    "    return batch, labels"
   ]
  },
  {
   "cell_type": "code",
   "execution_count": 7,
   "id": "fe9ffc46",
   "metadata": {},
   "outputs": [
    {
     "name": "stderr",
     "output_type": "stream",
     "text": [
      "2021-07-07 00:37:42.830976: W tensorflow/stream_executor/platform/default/dso_loader.cc:64] Could not load dynamic library 'libcuda.so.1'; dlerror: libcuda.so.1: cannot open shared object file: No such file or directory\n",
      "2021-07-07 00:37:42.831001: W tensorflow/stream_executor/cuda/cuda_driver.cc:326] failed call to cuInit: UNKNOWN ERROR (303)\n",
      "2021-07-07 00:37:42.831020: I tensorflow/stream_executor/cuda/cuda_diagnostics.cc:156] kernel driver does not appear to be running on this host (phucphan-ThinkPad): /proc/driver/nvidia/version does not exist\n",
      "2021-07-07 00:37:42.831280: I tensorflow/core/platform/cpu_feature_guard.cc:142] This TensorFlow binary is optimized with oneAPI Deep Neural Network Library (oneDNN) to use the following CPU instructions in performance-critical operations:  AVX2 FMA\n",
      "To enable them in other operations, rebuild TensorFlow with the appropriate compiler flags.\n"
     ]
    }
   ],
   "source": [
    "with tf.device('/cpu:0'):\n",
    "    # Create the Embedding variable (each row represent a word embedding vector)\n",
    "    embedding = tf.Variable(tf.random.normal([vocab_size, embedding_size]))\n",
    "    \n",
    "    # Construct the variables for NCE loss\n",
    "    nce_weights = tf.Variable(tf.random.normal([vocab_size, embedding_size]))\n",
    "    nce_biases = tf.Variable(tf.zeros([vocab_size]))\n",
    "    \n",
    "def get_embedding(x):\n",
    "    with tf.device('/cpu:0'):\n",
    "        # Lookup the corresponding embedding vectors for each sample in X\n",
    "        embeded = tf.nn.embedding_lookup(embedding, x)\n",
    "        \n",
    "        return embeded\n",
    "\n",
    "def nce_loss(embeded, y):\n",
    "    with tf.device('/cpu:0'):\n",
    "        # Compute the average NCE loss for the batch\n",
    "        y = tf.cast(y, tf.int64)\n",
    "        loss = tf.reduce_mean(\n",
    "            tf.nn.nce_loss(weights=nce_weights, \n",
    "                           biases=nce_biases, \n",
    "                           labels=y,\n",
    "                           inputs=embeded,\n",
    "                           num_sampled=num_sampled,\n",
    "                           num_classes=vocab_size\n",
    "                          )\n",
    "        )\n",
    "        \n",
    "        return loss\n",
    "    \n",
    "def evaluate(embeded):\n",
    "    with tf.device('/cpu:0'):\n",
    "        # Compute the cosine similarity between input data embedding and every embedding vectors\n",
    "        embeded = tf.cast(embeded, tf.float32)\n",
    "        embeded_norm = embeded / tf.sqrt(tf.reduce_sum(tf.square(embeded)))\n",
    "        embedding_norm = embedding / tf.sqrt(tf.reduce_sum(tf.square(embedding), 1, keepdims=True), tf.float32)\n",
    "        cosine_sim_op = tf.matmul(embeded_norm, embedding_norm, transpose_b=True)\n",
    "        \n",
    "        return cosine_sim_op\n",
    "    \n",
    "# Define the optimizer\n",
    "optimizer = tf.optimizers.SGD(lr)"
   ]
  },
  {
   "cell_type": "code",
   "execution_count": 8,
   "id": "e3b93e33",
   "metadata": {},
   "outputs": [],
   "source": [
    "# Optimization process\n",
    "def run_optimization(x, y):\n",
    "    with tf.device('/cpu:0'):\n",
    "        # Wrap computation inside a GradientTape for automatic differentation\n",
    "        with tf.GradientTape() as g:\n",
    "            emb = get_embedding(x)\n",
    "            loss = nce_loss(emb, y)\n",
    "            \n",
    "        # Compuate gradients\n",
    "        gradients = g.gradient(loss, [embedding, nce_weights, nce_biases])\n",
    "        \n",
    "        # Update W and b following gradients\n",
    "        optimizer.apply_gradients(zip(gradients, [embedding, nce_weights, nce_biases]))"
   ]
  },
  {
   "cell_type": "code",
   "execution_count": null,
   "id": "c2739408",
   "metadata": {},
   "outputs": [
    {
     "name": "stdout",
     "output_type": "stream",
     "text": [
      "Step: 1, loss: 32.8903\n",
      "Evaluation...\n",
      "\"five\" nearest neighbors:  six,  four,  three,  eight,  one,  two,  seven,  zero, \n",
      "\"of\" nearest neighbors:  and,  a,  in,  is,  this,  or,  for,  to, \n",
      "\"going\" nearest neighbors:  god,  united,  second,  life,  old,  form,  any,  within, \n",
      "\"hardware\" nearest neighbors:  english,  later,  during,  same,  number,  list,  some,  level, \n",
      "\"american\" nearest neighbors:  by,  but,  many,  its,  at,  was,  which,  all, \n",
      "\"britain\" nearest neighbors:  her,  d,  year,  same,  people,  number,  states,  being, \n"
     ]
    }
   ],
   "source": [
    "# Words for testing\n",
    "x_test = np.array([word2id[w] for w in eval_words])\n",
    "\n",
    "\n",
    "# Run training for the given number of steps\n",
    "for step in range(1, num_steps + 1):\n",
    "    batch_x, batch_y = next_batch(bs, num_skips, skip_window)\n",
    "    run_optimization(batch_x, batch_y)\n",
    "    \n",
    "    if step % display_step == 0 or step == 1:\n",
    "        loss = nce_loss(get_embedding(batch_x), batch_y)\n",
    "        print(\"Step: %i, loss: %.4f\" % (step, loss))\n",
    "    \n",
    "    if step % eval_step == 0 or step == 1:\n",
    "        print(f\"Evaluation...\")\n",
    "        sim = evaluate(get_embedding(x_test)).numpy()\n",
    "        for i in range(len(eval_words)):\n",
    "            top_k = 8    # Number of nearest neighbors\n",
    "            nearest = (-sim[i, :]).argsort()[1: top_k + 1]\n",
    "            log_str = '\"%s\" nearest neighbors: ' % eval_words[i]\n",
    "            for k in range(top_k):\n",
    "                log_str = '%s %s, ' % (log_str, id2word[nearest[k]])\n",
    "                \n",
    "            print(log_str)"
   ]
  },
  {
   "cell_type": "code",
   "execution_count": null,
   "id": "6a9e0579",
   "metadata": {},
   "outputs": [],
   "source": []
  }
 ],
 "metadata": {
  "kernelspec": {
   "display_name": "tf2",
   "language": "python",
   "name": "tf2"
  },
  "language_info": {
   "codemirror_mode": {
    "name": "ipython",
    "version": 3
   },
   "file_extension": ".py",
   "mimetype": "text/x-python",
   "name": "python",
   "nbconvert_exporter": "python",
   "pygments_lexer": "ipython3",
   "version": "3.7.1"
  }
 },
 "nbformat": 4,
 "nbformat_minor": 5
}
