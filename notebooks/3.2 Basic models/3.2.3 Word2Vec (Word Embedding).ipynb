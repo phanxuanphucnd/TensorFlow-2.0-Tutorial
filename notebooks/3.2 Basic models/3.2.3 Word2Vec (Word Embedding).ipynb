{
 "cells": [
  {
   "cell_type": "markdown",
   "id": "d06a4b17",
   "metadata": {},
   "source": [
    "### 3.2.3 Word2Vec (Word Embedding)\n",
    "\n",
    "- Author: Phanxuan Phuc\n",
    "- Project: https://github.com/phanxuanphucnd/TensorFlow-2.0-Tutorial\n",
    "\n",
    "*Copyright (c) 2021 Phuc Phan*"
   ]
  },
  {
   "cell_type": "code",
   "execution_count": 1,
   "id": "ba8c5deb",
   "metadata": {},
   "outputs": [
    {
     "name": "stderr",
     "output_type": "stream",
     "text": [
      "2021-07-04 13:30:41.555902: W tensorflow/stream_executor/platform/default/dso_loader.cc:64] Could not load dynamic library 'libcudart.so.11.0'; dlerror: libcudart.so.11.0: cannot open shared object file: No such file or directory\n",
      "2021-07-04 13:30:41.555930: I tensorflow/stream_executor/cuda/cudart_stub.cc:29] Ignore above cudart dlerror if you do not have a GPU set up on your machine.\n"
     ]
    }
   ],
   "source": [
    "import os\n",
    "import random\n",
    "import urllib\n",
    "import zipfile\n",
    "import collections\n",
    "import numpy as np\n",
    "import tensorflow as tf"
   ]
  },
  {
   "cell_type": "code",
   "execution_count": null,
   "id": "4b19c650",
   "metadata": {},
   "outputs": [],
   "source": [
    "# Training parameters\n",
    "lr = 0.1\n",
    "bs = 128\n",
    "eval_step = 200000\n",
    "display_step = 10000\n",
    "num_steps = 3000000\n",
    "\n",
    "# Evaluation parameters\n",
    "eval_words = ['five', 'of', 'going', 'hardware', 'american', 'britain']\n",
    "\n",
    "# Word2Vec parameters\n",
    "embedding_size = 200     # Dimension of the embedding vector\n",
    "max_vocab_size = 50000   # Total numbers of different words in the Vocaburary\n",
    "min_occurrence = 10      # Remove all words that doesn't appears at least n times\n",
    "skip_window = 3          # How many words to consider left and right\n",
    "num_skips = 2            # How many times to reuse an input to generate a label\n"
   ]
  }
 ],
 "metadata": {
  "kernelspec": {
   "display_name": "tf2",
   "language": "python",
   "name": "tf2"
  },
  "language_info": {
   "codemirror_mode": {
    "name": "ipython",
    "version": 3
   },
   "file_extension": ".py",
   "mimetype": "text/x-python",
   "name": "python",
   "nbconvert_exporter": "python",
   "pygments_lexer": "ipython3",
   "version": "3.7.1"
  }
 },
 "nbformat": 4,
 "nbformat_minor": 5
}
