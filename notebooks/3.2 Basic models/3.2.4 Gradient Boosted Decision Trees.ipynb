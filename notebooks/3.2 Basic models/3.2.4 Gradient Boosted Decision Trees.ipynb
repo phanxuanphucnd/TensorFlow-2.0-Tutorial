{
 "cells": [
  {
   "cell_type": "markdown",
   "id": "b6df4128",
   "metadata": {},
   "source": [
    "## 3.2.4 Gradient Boosted Decision Trees (GBDT)\n",
    "\n",
    "- Author: Phanxuan Phuc\n",
    "- Project: https://github.com/phanxuanphucnd/TensorFlow-2.0-Tutorial"
   ]
  },
  {
   "cell_type": "code",
   "execution_count": null,
   "id": "501ed33e",
   "metadata": {},
   "outputs": [],
   "source": []
  }
 ],
 "metadata": {
  "kernelspec": {
   "display_name": "tf2",
   "language": "python",
   "name": "tf2"
  },
  "language_info": {
   "codemirror_mode": {
    "name": "ipython",
    "version": 3
   },
   "file_extension": ".py",
   "mimetype": "text/x-python",
   "name": "python",
   "nbconvert_exporter": "python",
   "pygments_lexer": "ipython3",
   "version": "3.7.1"
  }
 },
 "nbformat": 4,
 "nbformat_minor": 5
}
